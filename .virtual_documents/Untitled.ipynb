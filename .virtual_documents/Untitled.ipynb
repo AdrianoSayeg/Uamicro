%run main.py


%run UAMicro_GUI/prueba_simulador_uamicro.py



