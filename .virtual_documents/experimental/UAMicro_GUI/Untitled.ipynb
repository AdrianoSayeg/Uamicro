%run prueba_simulador_uamicro.py



