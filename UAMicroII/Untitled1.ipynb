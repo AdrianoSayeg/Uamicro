{
 "cells": [
  {
   "cell_type": "code",
   "execution_count": 6,
   "id": "866a9436-34cb-41d9-9fce-2f34c6b009a2",
   "metadata": {},
   "outputs": [],
   "source": [
    "%run UAMicroII/uamicro2.py"
   ]
  },
  {
   "cell_type": "code",
   "execution_count": 8,
   "id": "74949966-a466-4e79-9984-18016a0c424c",
   "metadata": {},
   "outputs": [],
   "source": [
    "uamicro=Microprocesador()"
   ]
  },
  {
   "cell_type": "code",
   "execution_count": 11,
   "id": "ca759cb5-8635-44fb-8592-a97538c5184f",
   "metadata": {},
   "outputs": [
    {
     "name": "stdout",
     "output_type": "stream",
     "text": [
      "00: 050B\n",
      "01: 000A\n",
      "02: 0F30\n",
      "03: 0FE0\n",
      "04: 040A\n",
      "05: 030A\n",
      "06: 0E00\n",
      "07: 0A09\n",
      "08: 0602\n",
      "09: 0FF0\n",
      "10: 0001\n",
      "11: 0008\n"
     ]
    }
   ],
   "source": [
    "# Programa de ejemplo (16 bits por palabra)\n",
    "# Dirección | Valor\n",
    "# 0         | LDA 10      (cargar A desde dirección 10)\n",
    "# 1         | 0x000A      (operando: dirección 10)\n",
    "# 2         | ADD 11      (sumar valor de dirección 11)\n",
    "# 3         | 0x000B      (operando: dirección 11)\n",
    "# 4         | OUT         (enviar A a salida)\n",
    "# 5         | 0xF0??      (OUT especial)\n",
    "# 6         | HLT         (detener)\n",
    "# 7         | 0xF0F0      (HLT especial)\n",
    "# 10        | 0x0005      (dato para LDA)\n",
    "# 11        | 0x0003      (dato para ADD)\n",
    "\n",
    "programa = [\n",
    "    0x50B,  # LDX\n",
    "    0x00A,  # LDA   \n",
    "    0xF30,  # DEX\n",
    "    0xFE0,  # OUT\n",
    "    0x40A,  # LDB \n",
    "    0x30A,  # STA\n",
    "    0xE00,  # AAB\n",
    "    0XA09,  # JIZ\n",
    "    0X602,  # JMP\n",
    "    0xFF0,  # HLT \n",
    "    # Datos\n",
    "    0x001,  # dirección 10\n",
    "    0x008   # dirección 11\n",
    "]\n",
    "\n",
    "# Cargar en memoria\n",
    "uamicro.cargar_memoria(programa)\n",
    "\n",
    "# Opcional: imprimir memoria\n",
    "for i, val in enumerate(uamicro.MEM.mem[:len(programa)]):\n",
    "    print(f\"{i:02}: {val:04X}\")\n"
   ]
  },
  {
   "cell_type": "code",
   "execution_count": 12,
   "id": "8767ab5f-94c5-46ad-8d5f-5bf38aeac1fe",
   "metadata": {},
   "outputs": [
    {
     "name": "stdout",
     "output_type": "stream",
     "text": [
      "Reiniciando microprocesador...\n",
      "Lo:  1\n",
      "Lo:  2\n",
      "Lo:  3\n",
      "Lo:  5\n",
      "Lo:  8\n",
      "Lo:  13\n",
      "Lo:  21\n",
      "Lo:  34\n"
     ]
    }
   ],
   "source": [
    "uamicro.correr(programa)"
   ]
  },
  {
   "cell_type": "code",
   "execution_count": null,
   "id": "5b45c604-e93e-4efc-8850-94bc1f8e1fae",
   "metadata": {},
   "outputs": [],
   "source": []
  }
 ],
 "metadata": {
  "kernelspec": {
   "display_name": "Python 3 (ipykernel)",
   "language": "python",
   "name": "python3"
  },
  "language_info": {
   "codemirror_mode": {
    "name": "ipython",
    "version": 3
   },
   "file_extension": ".py",
   "mimetype": "text/x-python",
   "name": "python",
   "nbconvert_exporter": "python",
   "pygments_lexer": "ipython3",
   "version": "3.12.2"
  }
 },
 "nbformat": 4,
 "nbformat_minor": 5
}
