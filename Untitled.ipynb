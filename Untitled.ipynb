{
 "cells": [
  {
   "cell_type": "code",
   "execution_count": 1,
   "id": "daa2a7b2-fd57-4147-8922-bc52743873cc",
   "metadata": {},
   "outputs": [],
   "source": [
    "from main import uamicro1\n",
    "from PyQt5 import QtWidgets"
   ]
  },
  {
   "cell_type": "code",
   "execution_count": null,
   "id": "dfd8f5b5-a904-4c9c-b866-717318937e0c",
   "metadata": {},
   "outputs": [
    {
     "name": "stderr",
     "output_type": "stream",
     "text": [
      "Warning: Ignoring XDG_SESSION_TYPE=wayland on Gnome. Use QT_QPA_PLATFORM=wayland to run on Wayland anyway.\n"
     ]
    }
   ],
   "source": [
    "ejemplo2=[0]*0x25\n",
    "ejemplo2[0:0x07]=[0x00,0x0A,0x01,0x0B,0xf0,0x02,0xFF,0xf6]\n",
    "ejemplo2[0x0A:0x0C]=[0x10,0x02]\n",
    "if __name__ == \"__main__\":\n",
    "    import sys\n",
    "    app = QtWidgets.QApplication(sys.argv)\n",
    "    window = uamicro1()\n",
    "    window.show()\n",
    "    window.cargar_memoria(ejemplo2)\n",
    "    sys.exit(app.exec_())"
   ]
  },
  {
   "cell_type": "code",
   "execution_count": 3,
   "id": "7018157d-678f-4d2e-ace5-caf3bfcd45ee",
   "metadata": {},
   "outputs": [
    {
     "name": "stdout",
     "output_type": "stream",
     "text": [
      "LDA\n",
      "LDB\n",
      "ADA\n",
      "STA\n",
      "HLT\n",
      "LDA\n",
      "LDA\n",
      "STA\n",
      "LDA\n",
      "LDA\n",
      "LDA\n",
      "LDA\n",
      "LDA\n",
      "LDA\n",
      "LDA\n",
      "LDA\n",
      "LDA\n",
      "LDA\n",
      "LDA\n",
      "LDA\n",
      "LDA\n",
      "LDA\n",
      "LDA\n",
      "LDA\n",
      "LDA\n",
      "LDA\n",
      "LDA\n",
      "LDA\n",
      "LDA\n",
      "LDA\n",
      "LDA\n",
      "LDA\n",
      "LDA\n",
      "LDA\n"
     ]
    }
   ],
   "source": [
    "prueba={'00':'LDA','01':'LDB','02':'STA','03':'STB','04':'ADD','05':'SBB',\n",
    "                      'f0':'ADA','f1':'ADB','f2':'SUA','f3':'SUB','f6':'HLT',\n",
    "                     }\n",
    "for i in ejemplo2:\n",
    "    if f'{i:02x}' in prueba:\n",
    "        print(prueba[f'{i:02x}'])\n"
   ]
  },
  {
   "cell_type": "code",
   "execution_count": null,
   "id": "5d486f79-289e-4f95-b1cb-8d32d7e84381",
   "metadata": {},
   "outputs": [],
   "source": []
  }
 ],
 "metadata": {
  "kernelspec": {
   "display_name": "Python 3 (ipykernel)",
   "language": "python",
   "name": "python3"
  },
  "language_info": {
   "codemirror_mode": {
    "name": "ipython",
    "version": 3
   },
   "file_extension": ".py",
   "mimetype": "text/x-python",
   "name": "python",
   "nbconvert_exporter": "python",
   "pygments_lexer": "ipython3",
   "version": "3.12.2"
  }
 },
 "nbformat": 4,
 "nbformat_minor": 5
}
