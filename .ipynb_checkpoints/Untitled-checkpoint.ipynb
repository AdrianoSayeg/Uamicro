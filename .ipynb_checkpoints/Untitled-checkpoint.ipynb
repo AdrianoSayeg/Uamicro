{
 "cells": [
  {
   "cell_type": "code",
   "execution_count": 1,
   "id": "daa2a7b2-fd57-4147-8922-bc52743873cc",
   "metadata": {},
   "outputs": [],
   "source": [
    "from main import uamicro1\n",
    "from PyQt5 import QtWidgets"
   ]
  },
  {
   "cell_type": "code",
   "execution_count": 2,
   "id": "dfd8f5b5-a904-4c9c-b866-717318937e0c",
   "metadata": {},
   "outputs": [
    {
     "name": "stderr",
     "output_type": "stream",
     "text": [
      "Warning: Ignoring XDG_SESSION_TYPE=wayland on Gnome. Use QT_QPA_PLATFORM=wayland to run on Wayland anyway.\n"
     ]
    },
    {
     "name": "stdout",
     "output_type": "stream",
     "text": [
      "\n",
      "=== Ciclo 0 ===\n",
      "0\n",
      "0 0 0 0 0 0 0 0 0 1 0 0 0 1 0 0\n",
      "Instruccion: 00\n",
      "Resultado ALU: 0\n",
      "ACC_A: 0, ACC_B: 0\n",
      "MAR: 0, AR: 0\n",
      "PC: 0, IR: 0\n",
      "\n",
      "=== Ciclo 1 ===\n",
      "0\n",
      "0 0 0 0 0 0 0 0 1 0 0 0 1 0 1 1\n",
      "Instruccion: 00\n",
      "Resultado ALU: 0\n",
      "ACC_A: 0, ACC_B: 0\n",
      "MAR: 0, AR: 0\n",
      "PC: 1, IR: 0\n",
      "\n",
      "=== Ciclo 2 ===\n",
      "1\n",
      "0 0 0 0 0 0 0 0 0 1 0 0 0 1 0 0\n",
      "Instruccion: 00\n",
      "Resultado ALU: 0\n",
      "ACC_A: 0, ACC_B: 0\n",
      "MAR: 1, AR: 0\n",
      "PC: 1, IR: 0\n",
      "\n",
      "=== Ciclo 3 ===\n",
      "10\n",
      "0 0 0 0 0 0 0 0 1 0 1 0 0 0 1 1\n",
      "Instruccion: 00\n",
      "Resultado ALU: 0\n",
      "ACC_A: 0, ACC_B: 0\n",
      "MAR: 1, AR: 10\n",
      "PC: 2, IR: 0\n",
      "\n",
      "=== Ciclo 4 ===\n",
      "10\n",
      "0 0 0 0 0 0 0 0 0 0 0 1 0 1 0 0\n",
      "Instruccion: 00\n",
      "Resultado ALU: 0\n",
      "ACC_A: 0, ACC_B: 0\n",
      "MAR: 10, AR: 10\n",
      "PC: 2, IR: 0\n",
      "\n",
      "=== Ciclo 5 ===\n",
      "16\n",
      "0 0 0 1 0 0 0 0 0 0 0 0 0 0 1 1\n",
      "Instruccion: 00\n",
      "Resultado ALU: 0\n",
      "ACC_A: 16, ACC_B: 0\n",
      "MAR: 10, AR: 10\n",
      "PC: 2, IR: 0\n",
      "\n",
      "=== Ciclo 6 ===\n",
      "16\n",
      "0 0 0 0 0 0 0 0 0 0 0 0 0 0 0 0\n",
      "Instruccion: 00\n",
      "Resultado ALU: 16\n",
      "ACC_A: 16, ACC_B: 0\n",
      "MAR: 10, AR: 10\n",
      "PC: 2, IR: 0\n",
      "\n",
      "=== Ciclo 0 ===\n",
      "2\n",
      "0 0 0 0 0 0 0 0 0 1 0 0 0 1 0 0\n",
      "Instruccion: 00\n",
      "Resultado ALU: 16\n",
      "ACC_A: 16, ACC_B: 0\n",
      "MAR: 2, AR: 10\n",
      "PC: 2, IR: 0\n",
      "\n",
      "=== Ciclo 1 ===\n",
      "1\n",
      "0 0 0 0 0 0 0 0 1 0 0 0 1 0 1 1\n",
      "Instruccion: 01\n",
      "Resultado ALU: 16\n",
      "ACC_A: 16, ACC_B: 0\n",
      "MAR: 2, AR: 10\n",
      "PC: 3, IR: 1\n",
      "\n",
      "=== Ciclo 2 ===\n",
      "3\n",
      "0 0 0 0 0 0 0 0 0 1 0 0 0 1 0 0\n",
      "Instruccion: 01\n",
      "Resultado ALU: 16\n",
      "ACC_A: 16, ACC_B: 0\n",
      "MAR: 3, AR: 10\n",
      "PC: 3, IR: 1\n",
      "\n",
      "=== Ciclo 3 ===\n",
      "11\n",
      "0 0 0 0 0 0 0 0 1 0 1 0 0 0 1 1\n",
      "Instruccion: 01\n",
      "Resultado ALU: 16\n",
      "ACC_A: 16, ACC_B: 0\n",
      "MAR: 3, AR: 11\n",
      "PC: 4, IR: 1\n",
      "\n",
      "=== Ciclo 4 ===\n",
      "11\n",
      "0 0 0 0 0 0 0 0 0 0 0 1 0 1 0 0\n",
      "Instruccion: 01\n",
      "Resultado ALU: 16\n",
      "ACC_A: 16, ACC_B: 0\n",
      "MAR: 11, AR: 11\n",
      "PC: 4, IR: 1\n"
     ]
    },
    {
     "ename": "SystemExit",
     "evalue": "0",
     "output_type": "error",
     "traceback": [
      "An exception has occurred, use %tb to see the full traceback.\n",
      "\u001b[0;31mSystemExit\u001b[0m\u001b[0;31m:\u001b[0m 0\n"
     ]
    },
    {
     "name": "stderr",
     "output_type": "stream",
     "text": [
      "/home/adriano/anaconda3/lib/python3.12/site-packages/IPython/core/interactiveshell.py:3585: UserWarning: To exit: use 'exit', 'quit', or Ctrl-D.\n",
      "  warn(\"To exit: use 'exit', 'quit', or Ctrl-D.\", stacklevel=1)\n"
     ]
    }
   ],
   "source": [
    "ejemplo2=[0]*0x25\n",
    "ejemplo2[0:0x07]=[0x00,0x0A,0x01,0x0B,0xf0,0x02,0xFF,0xf4]\n",
    "ejemplo2[0x0A:0x0C]=[0x10,0x02]\n",
    "if __name__ == \"__main__\":\n",
    "    import sys\n",
    "    app = QtWidgets.QApplication(sys.argv)\n",
    "    window = uamicro1()\n",
    "    window.show()\n",
    "    window.cargar_memoria(ejemplo2)\n",
    "    sys.exit(app.exec_())"
   ]
  },
  {
   "cell_type": "code",
   "execution_count": null,
   "id": "7018157d-678f-4d2e-ace5-caf3bfcd45ee",
   "metadata": {},
   "outputs": [],
   "source": []
  }
 ],
 "metadata": {
  "kernelspec": {
   "display_name": "Python 3 (ipykernel)",
   "language": "python",
   "name": "python3"
  },
  "language_info": {
   "codemirror_mode": {
    "name": "ipython",
    "version": 3
   },
   "file_extension": ".py",
   "mimetype": "text/x-python",
   "name": "python",
   "nbconvert_exporter": "python",
   "pygments_lexer": "ipython3",
   "version": "3.12.2"
  }
 },
 "nbformat": 4,
 "nbformat_minor": 5
}
